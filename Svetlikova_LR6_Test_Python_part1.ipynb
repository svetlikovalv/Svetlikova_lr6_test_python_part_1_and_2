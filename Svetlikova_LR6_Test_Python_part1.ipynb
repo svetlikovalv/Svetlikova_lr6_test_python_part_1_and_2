{
  "nbformat": 4,
  "nbformat_minor": 0,
  "metadata": {
    "colab": {
      "provenance": [],
      "authorship_tag": "ABX9TyOqcw2P+65QtAM5sOs9/z7R",
      "include_colab_link": true
    },
    "kernelspec": {
      "name": "python3",
      "display_name": "Python 3"
    },
    "language_info": {
      "name": "python"
    }
  },
  "cells": [
    {
      "cell_type": "markdown",
      "metadata": {
        "id": "view-in-github",
        "colab_type": "text"
      },
      "source": [
        "<a href=\"https://colab.research.google.com/github/svetlikovalv/Svetlikova_lr6_test_python_part_1_and_2/blob/main/Svetlikova_LR6_Test_Python_part1.ipynb\" target=\"_parent\"><img src=\"https://colab.research.google.com/assets/colab-badge.svg\" alt=\"Open In Colab\"/></a>"
      ]
    },
    {
      "cell_type": "code",
      "source": [
        "!pip install pytest\n"
      ],
      "metadata": {
        "colab": {
          "base_uri": "https://localhost:8080/"
        },
        "id": "j9LzrkaBDoWc",
        "outputId": "d878d0b0-4a7d-4c2f-b21e-138d99458567"
      },
      "execution_count": 32,
      "outputs": [
        {
          "output_type": "stream",
          "name": "stdout",
          "text": [
            "Requirement already satisfied: pytest in /usr/local/lib/python3.11/dist-packages (8.3.5)\n",
            "Requirement already satisfied: iniconfig in /usr/local/lib/python3.11/dist-packages (from pytest) (2.1.0)\n",
            "Requirement already satisfied: packaging in /usr/local/lib/python3.11/dist-packages (from pytest) (24.2)\n",
            "Requirement already satisfied: pluggy<2,>=1.5 in /usr/local/lib/python3.11/dist-packages (from pytest) (1.5.0)\n"
          ]
        }
      ]
    },
    {
      "cell_type": "code",
      "source": [
        "%%writefile my_module.py\n",
        "import math\n",
        "\n",
        "# проверка ввода\n",
        "def user_input(input_str):\n",
        "    if not input_str.strip():  # Проверка, что строка не пустая\n",
        "        return False\n",
        "        print(\"неверный ввод, ввдедите заново\")\n",
        "    for c in input_str:\n",
        "        if c.isalpha():  # Проверка, является ли символ буквой\n",
        "            return False\n",
        "            print(\"неверный ввод, ввдедите заново\")\n",
        "    try:\n",
        "        number = float(input_str)  # Используем float, аналог stold в C++\n",
        "        # if number < 0:\n",
        "        #     return True\n",
        "    except:\n",
        "        return False\n",
        "\n",
        "    return True\n",
        "# ввод чисел\n",
        "def enter_number():\n",
        "  promt=\"Enter number: \"\n",
        "  var=input(promt)\n",
        "  while not user_input(var):\n",
        "    print(\"Invalid.Enter number: \")\n",
        "    var=input(promt)\n",
        "  return float(var)\n",
        "\n",
        "#модуль комплексного числа\n",
        "def modul(a:float,b:float)-> float:\n",
        "  return math.pow((a*a+b*b),0.5)\n",
        "#аргумент комплексного числа\n",
        "def argument(a:float,b:float)-> float:\n",
        "  if a>0:\n",
        "        return math.atan(b/a)\n",
        "  if a<0 and b>0:\n",
        "      return math.atan(b/a)+math.pi\n",
        "  if a<0 and b<0:\n",
        "      return math.atan(b/a)-math.pi\n",
        "  if a==0 and b>0:\n",
        "      return math.pi/2\n",
        "  if a==0 and b<0:\n",
        "      return - math.pi/2\n",
        "  if a==0 and b==0:\n",
        "      return 0.0\n",
        "\n",
        "\n"
      ],
      "metadata": {
        "colab": {
          "base_uri": "https://localhost:8080/"
        },
        "id": "6qzl5VEoD41r",
        "outputId": "6ea438ac-ed2c-4375-c321-9e7f6dc60597"
      },
      "execution_count": 39,
      "outputs": [
        {
          "output_type": "stream",
          "name": "stdout",
          "text": [
            "Overwriting my_module.py\n"
          ]
        }
      ]
    },
    {
      "cell_type": "code",
      "source": [
        "%%writefile test_methods.py\n",
        "import pytest\n",
        "import math\n",
        "from my_module import modul,argument,user_input\n",
        "#тест ввода\n",
        "@pytest.mark.parametrize(\"x,expected\",[(\"2\",True),(\"-1\",True),(\"0\",True),(\"\",False),(\",\",False),(\"d1\",False)])\n",
        "def test_user_input(x,expected):\n",
        "  assert user_input(x)==expected\n",
        "#тест модуля комплексного числа\n",
        "@pytest.mark.parametrize(\"a,b,expected\",[(3,4,5),(0,4,4),(-1,-1,2**0.5)])\n",
        "def test_modul(a,b,expected):\n",
        "  assert modul(a,b)==expected\n",
        "#тест аргумента комплексного числа\n",
        "@pytest.mark.parametrize(\"a,b,expected\",[(1,1,(math.pi)/4),(-1,1,-(math.pi)/4+math.pi),\\\n",
        " (-1,-1,(math.pi)/4-math.pi),(0,1,(math.pi)/2),(0,-1,-(math.pi)/2),(0,0,0.0)])#for argument\n",
        "def test_argument(a,b,expected):\n",
        "  assert argument(a,b)==expected\n"
      ],
      "metadata": {
        "colab": {
          "base_uri": "https://localhost:8080/"
        },
        "id": "hfFJt9018rMf",
        "outputId": "32fa5f73-94e8-4d21-ac68-76c36c75c0d6"
      },
      "execution_count": 34,
      "outputs": [
        {
          "output_type": "stream",
          "name": "stdout",
          "text": [
            "Overwriting test_methods.py\n"
          ]
        }
      ]
    },
    {
      "cell_type": "code",
      "source": [
        "!pytest test_methods.py -v"
      ],
      "metadata": {
        "colab": {
          "base_uri": "https://localhost:8080/"
        },
        "id": "ksDPqplXB8yZ",
        "outputId": "3311d24f-8365-4037-8112-9d704f03129e"
      },
      "execution_count": 40,
      "outputs": [
        {
          "output_type": "stream",
          "name": "stdout",
          "text": [
            "\u001b[1m============================= test session starts ==============================\u001b[0m\n",
            "platform linux -- Python 3.11.12, pytest-8.3.5, pluggy-1.5.0 -- /usr/bin/python3\n",
            "cachedir: .pytest_cache\n",
            "rootdir: /content\n",
            "plugins: typeguard-4.4.2, anyio-4.9.0, langsmith-0.3.33\n",
            "\u001b[1mcollecting ... \u001b[0m\u001b[1m\rcollected 15 items                                                             \u001b[0m\n",
            "\n",
            "test_methods.py::test_user_input[2-True] \u001b[32mPASSED\u001b[0m\u001b[32m                          [  6%]\u001b[0m\n",
            "test_methods.py::test_user_input[-1-True] \u001b[32mPASSED\u001b[0m\u001b[32m                         [ 13%]\u001b[0m\n",
            "test_methods.py::test_user_input[0-True] \u001b[32mPASSED\u001b[0m\u001b[32m                          [ 20%]\u001b[0m\n",
            "test_methods.py::test_user_input[-False] \u001b[32mPASSED\u001b[0m\u001b[32m                          [ 26%]\u001b[0m\n",
            "test_methods.py::test_user_input[,-False] \u001b[32mPASSED\u001b[0m\u001b[32m                         [ 33%]\u001b[0m\n",
            "test_methods.py::test_user_input[d1-False] \u001b[32mPASSED\u001b[0m\u001b[32m                        [ 40%]\u001b[0m\n",
            "test_methods.py::test_modul[3-4-5] \u001b[32mPASSED\u001b[0m\u001b[32m                                [ 46%]\u001b[0m\n",
            "test_methods.py::test_modul[0-4-4] \u001b[32mPASSED\u001b[0m\u001b[32m                                [ 53%]\u001b[0m\n",
            "test_methods.py::test_modul[-1--1-1.4142135623730951] \u001b[32mPASSED\u001b[0m\u001b[32m             [ 60%]\u001b[0m\n",
            "test_methods.py::test_argument[1-1-0.7853981633974483] \u001b[32mPASSED\u001b[0m\u001b[32m            [ 66%]\u001b[0m\n",
            "test_methods.py::test_argument[-1-1-2.356194490192345] \u001b[32mPASSED\u001b[0m\u001b[32m            [ 73%]\u001b[0m\n",
            "test_methods.py::test_argument[-1--1--2.356194490192345] \u001b[32mPASSED\u001b[0m\u001b[32m          [ 80%]\u001b[0m\n",
            "test_methods.py::test_argument[0-1-1.5707963267948966] \u001b[32mPASSED\u001b[0m\u001b[32m            [ 86%]\u001b[0m\n",
            "test_methods.py::test_argument[0--1--1.5707963267948966] \u001b[32mPASSED\u001b[0m\u001b[32m          [ 93%]\u001b[0m\n",
            "test_methods.py::test_argument[0-0-0.0] \u001b[32mPASSED\u001b[0m\u001b[32m                           [100%]\u001b[0m\n",
            "\n",
            "\u001b[32m============================== \u001b[32m\u001b[1m15 passed\u001b[0m\u001b[32m in 0.03s\u001b[0m\u001b[32m ==============================\u001b[0m\n"
          ]
        }
      ]
    },
    {
      "cell_type": "code",
      "source": [
        "from my_module import enter_number, modul, argument\n",
        "print(\"введите действительную часть комплексного числа\")\n",
        "a=enter_number()\n",
        "print(\"введите мнимую часть комплексного числа\")\n",
        "b=enter_number()\n",
        "\n",
        "\n",
        "print(\"действительная часть коплексного числа: \", a,\"\\nмнимая часть комплексного числа равна: \", b)\n",
        "\n",
        "print(\"модуль комплексного числа равен: \", modul(a,b))\n",
        "\n",
        "print(\"аргумент комплексного числа равен: \", argument(a,b))\n",
        "\n"
      ],
      "metadata": {
        "colab": {
          "base_uri": "https://localhost:8080/"
        },
        "id": "XdEtjIjOPZ--",
        "outputId": "9cb71a56-9317-4bcb-f5da-2222a96e810e"
      },
      "execution_count": 41,
      "outputs": [
        {
          "output_type": "stream",
          "name": "stdout",
          "text": [
            "введите действительную часть комплексного числа\n",
            "Enter number4\n",
            "введите мнимую часть комплексного числа\n",
            "Enter numberdfgh\n",
            "Error.Enter number\n",
            "Enter numbert6\n",
            "Error.Enter number\n",
            "Enter number6\n",
            "действительная часть коплексного числа:  4.0 \n",
            "мнимая часть комплексного числа равна:  6.0\n",
            "модуль комплексного числа равен:  7.211102550927978\n",
            "аргумент комплексного числа равен:  0.982793723247329\n"
          ]
        }
      ]
    }
  ]
}