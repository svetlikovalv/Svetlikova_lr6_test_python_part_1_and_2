{
  "nbformat": 4,
  "nbformat_minor": 0,
  "metadata": {
    "colab": {
      "provenance": [],
      "authorship_tag": "ABX9TyNBPyKtfXsY7SsycaDm0ILV",
      "include_colab_link": true
    },
    "kernelspec": {
      "name": "python3",
      "display_name": "Python 3"
    },
    "language_info": {
      "name": "python"
    }
  },
  "cells": [
    {
      "cell_type": "markdown",
      "metadata": {
        "id": "view-in-github",
        "colab_type": "text"
      },
      "source": [
        "<a href=\"https://colab.research.google.com/github/svetlikovalv/Svetlikova_lr6_test_python_part_1_and_2/blob/main/Svetlikova_LR6_Test_Python_part2.ipynb\" target=\"_parent\"><img src=\"https://colab.research.google.com/assets/colab-badge.svg\" alt=\"Open In Colab\"/></a>"
      ]
    },
    {
      "cell_type": "code",
      "execution_count": 22,
      "metadata": {
        "colab": {
          "base_uri": "https://localhost:8080/"
        },
        "id": "DfEYy1zhJGyY",
        "outputId": "73ff7306-2e94-4590-b4a8-21faad85c6eb"
      },
      "outputs": [
        {
          "output_type": "stream",
          "name": "stdout",
          "text": [
            "Requirement already satisfied: pytest in /usr/local/lib/python3.11/dist-packages (8.3.5)\n",
            "Requirement already satisfied: iniconfig in /usr/local/lib/python3.11/dist-packages (from pytest) (2.1.0)\n",
            "Requirement already satisfied: packaging in /usr/local/lib/python3.11/dist-packages (from pytest) (24.2)\n",
            "Requirement already satisfied: pluggy<2,>=1.5 in /usr/local/lib/python3.11/dist-packages (from pytest) (1.5.0)\n"
          ]
        }
      ],
      "source": [
        "!pip install pytest"
      ]
    },
    {
      "cell_type": "code",
      "source": [
        "%%writefile my_module.py\n",
        "# проверка ввода\n",
        "def user_input(input_str):\n",
        "    if not input_str.strip():  # Проверка, что строка не пустая\n",
        "        return False\n",
        "        print(\"неверный ввод, ввдедите заново\")\n",
        "    for c in input_str:\n",
        "        if c.isalpha():  # Проверка, является ли символ буквой\n",
        "            return False\n",
        "            print(\"неверный ввод, ввдедите заново\")\n",
        "    try:\n",
        "        number = int(input_str)  # Используем int, аналог stoi в C++\n",
        "        if number < 0:\n",
        "            return False\n",
        "    except:\n",
        "        return False\n",
        "\n",
        "    return True\n",
        "# ввод чисел\n",
        "def enter_number():\n",
        "  promt=\"Enter number: \"\n",
        "  var=input(promt)\n",
        "  while not user_input(var):\n",
        "    print(\"Invalid.Enter number: \")\n",
        "    var=input(promt)\n",
        "  return int(var)\n",
        "\n",
        "# функция считающая сумму цифр\n",
        "def sum_of_digits(num):\n",
        "    sum = 0\n",
        "    for i in str(abs(num)):\n",
        "      sum += int(i)\n",
        "    return sum\n",
        "# проверка равенства сумм цифр\n",
        "def is_equal(num1:int,num2:int):\n",
        "  return sum_of_digits(num1) == sum_of_digits(num2)"
      ],
      "metadata": {
        "colab": {
          "base_uri": "https://localhost:8080/"
        },
        "id": "X1S1abduJJrn",
        "outputId": "0ecb7c57-28b1-4174-e6c5-8704aeb3cfcd"
      },
      "execution_count": 23,
      "outputs": [
        {
          "output_type": "stream",
          "name": "stdout",
          "text": [
            "Overwriting my_module.py\n"
          ]
        }
      ]
    },
    {
      "cell_type": "code",
      "source": [
        "%%writefile test_methods.py\n",
        "import pytest\n",
        "from my_module import user_input,sum_of_digits,is_equal\n",
        "#тест ввода\n",
        "@pytest.mark.parametrize(\"x,expected\",[(\"2\",True),(\"-1\",False),(\"0\",True),\\\n",
        " (\"\",False),(\",\",False),(\"d1\",False),(\"a\",False)])\n",
        "def test_user_input(x,expected):\n",
        "  assert user_input(x)==expected\n",
        "@pytest.mark.parametrize(\"num,expected\",[(105,6),(21,3),(0,0),(42,6),(35,8)])\n",
        "def test_sum_of_digits(num,expected):\n",
        "  assert sum_of_digits(num)==expected\n",
        "@pytest.mark.parametrize(\"num1,num2,expected\",[(105,42,True),(21,35,False),(0,0,True),(99,88,False)])\n",
        "def test_is_equal(num1,num2,expected):\n",
        "  assert is_equal(num1,num2)==expected"
      ],
      "metadata": {
        "colab": {
          "base_uri": "https://localhost:8080/"
        },
        "id": "Tsn_UioWJKR4",
        "outputId": "ff296b97-d600-4d71-8d30-9a89157e4767"
      },
      "execution_count": 24,
      "outputs": [
        {
          "output_type": "stream",
          "name": "stdout",
          "text": [
            "Overwriting test_methods.py\n"
          ]
        }
      ]
    },
    {
      "cell_type": "code",
      "source": [
        "!pytest test_methods.py -v"
      ],
      "metadata": {
        "colab": {
          "base_uri": "https://localhost:8080/"
        },
        "id": "ZK9H00eCKipO",
        "outputId": "83355576-2a4c-41b5-c62a-cce7418a381b"
      },
      "execution_count": 25,
      "outputs": [
        {
          "output_type": "stream",
          "name": "stdout",
          "text": [
            "\u001b[1m============================= test session starts ==============================\u001b[0m\n",
            "platform linux -- Python 3.11.12, pytest-8.3.5, pluggy-1.5.0 -- /usr/bin/python3\n",
            "cachedir: .pytest_cache\n",
            "rootdir: /content\n",
            "plugins: typeguard-4.4.2, anyio-4.9.0, langsmith-0.3.33\n",
            "\u001b[1mcollecting ... \u001b[0m\u001b[1m\rcollected 16 items                                                             \u001b[0m\n",
            "\n",
            "test_methods.py::test_user_input[2-True] \u001b[32mPASSED\u001b[0m\u001b[32m                          [  6%]\u001b[0m\n",
            "test_methods.py::test_user_input[-1-False] \u001b[32mPASSED\u001b[0m\u001b[32m                        [ 12%]\u001b[0m\n",
            "test_methods.py::test_user_input[0-True] \u001b[32mPASSED\u001b[0m\u001b[32m                          [ 18%]\u001b[0m\n",
            "test_methods.py::test_user_input[-False] \u001b[32mPASSED\u001b[0m\u001b[32m                          [ 25%]\u001b[0m\n",
            "test_methods.py::test_user_input[,-False] \u001b[32mPASSED\u001b[0m\u001b[32m                         [ 31%]\u001b[0m\n",
            "test_methods.py::test_user_input[d1-False] \u001b[32mPASSED\u001b[0m\u001b[32m                        [ 37%]\u001b[0m\n",
            "test_methods.py::test_user_input[a-False] \u001b[32mPASSED\u001b[0m\u001b[32m                         [ 43%]\u001b[0m\n",
            "test_methods.py::test_sum_of_digits[105-6] \u001b[32mPASSED\u001b[0m\u001b[32m                        [ 50%]\u001b[0m\n",
            "test_methods.py::test_sum_of_digits[21-3] \u001b[32mPASSED\u001b[0m\u001b[32m                         [ 56%]\u001b[0m\n",
            "test_methods.py::test_sum_of_digits[0-0] \u001b[32mPASSED\u001b[0m\u001b[32m                          [ 62%]\u001b[0m\n",
            "test_methods.py::test_sum_of_digits[42-6] \u001b[32mPASSED\u001b[0m\u001b[32m                         [ 68%]\u001b[0m\n",
            "test_methods.py::test_sum_of_digits[35-8] \u001b[32mPASSED\u001b[0m\u001b[32m                         [ 75%]\u001b[0m\n",
            "test_methods.py::test_is_equal[105-42-True] \u001b[32mPASSED\u001b[0m\u001b[32m                       [ 81%]\u001b[0m\n",
            "test_methods.py::test_is_equal[21-35-False] \u001b[32mPASSED\u001b[0m\u001b[32m                       [ 87%]\u001b[0m\n",
            "test_methods.py::test_is_equal[0-0-True] \u001b[32mPASSED\u001b[0m\u001b[32m                          [ 93%]\u001b[0m\n",
            "test_methods.py::test_is_equal[99-88-False] \u001b[32mPASSED\u001b[0m\u001b[32m                       [100%]\u001b[0m\n",
            "\n",
            "\u001b[32m============================== \u001b[32m\u001b[1m16 passed\u001b[0m\u001b[32m in 0.03s\u001b[0m\u001b[32m ==============================\u001b[0m\n"
          ]
        }
      ]
    },
    {
      "cell_type": "code",
      "source": [
        "from my_module import enter_number,is_equal,sum_of_digits\n",
        "print(\"введите первое число \")\n",
        "num1=enter_number()\n",
        "print(\"введите второе число \")\n",
        "num2=enter_number()\n",
        "\n",
        "print(\"сумма цифр первого числа: \",sum_of_digits(num1),\"\\nсумма цифр вторго числа: \",sum_of_digits(num2))\n",
        "print(\"cуммы цифр чисел равны \" if is_equal(num1,num2) else \"cуммы цифр чисел не равны \")\n"
      ],
      "metadata": {
        "colab": {
          "base_uri": "https://localhost:8080/"
        },
        "id": "-9zoW76uKtKO",
        "outputId": "564e6764-042c-4a0b-80ff-a51a59bc1022"
      },
      "execution_count": null,
      "outputs": [
        {
          "output_type": "stream",
          "name": "stdout",
          "text": [
            "введите первое число \n"
          ]
        }
      ]
    }
  ]
}